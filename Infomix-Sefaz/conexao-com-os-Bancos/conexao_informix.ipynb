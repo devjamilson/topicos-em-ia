{
 "cells": [
  {
   "cell_type": "code",
   "execution_count": 3,
   "metadata": {},
   "outputs": [],
   "source": [
    "import re\n",
    "import pyodbc\n",
    "import pandas as pd\n",
    "\n",
    "df_contribuintes = pd.read_excel(r'C:\\Users\\jamil\\OneDrive\\Área de Trabalho\\Informix\\scripts\\CNPJS_07_06_24.xlsx')\n",
    "cnpj_contribuintes = df_contribuintes['CNPJ'].astype(str).tolist()[:201]\n",
    "cnpj_contribuintes = [re.sub(r'\\D', '', cnpj).zfill(14) for cnpj in cnpj_contribuintes]"
   ]
  },
  {
   "cell_type": "code",
   "execution_count": 12,
   "metadata": {},
   "outputs": [
    {
     "name": "stdout",
     "output_type": "stream",
     "text": [
      "              \n",
      "0  609117855.0\n"
     ]
    }
   ],
   "source": [
    "\n",
    "\n",
    "def get_informix_connection():\n",
    "    driver = 'informix_Producao_BCARGA' \n",
    "    user = 'classprod'\n",
    "    password = 'yY5eQ4vT'\n",
    "    database = 'central'\n",
    "    server = 'bd1hom'\n",
    "    \n",
    "    connection_string = f'DSN={driver};UID={user};PWD={password};DATABASE={database};SERVER={server}'\n",
    "\n",
    "    connection = pyodbc.connect(connection_string)\n",
    "    return connection\n",
    "\n"
   ]
  }
 ],
 "metadata": {
  "kernelspec": {
   "display_name": "Python 3",
   "language": "python",
   "name": "python3"
  },
  "language_info": {
   "codemirror_mode": {
    "name": "ipython",
    "version": 3
   },
   "file_extension": ".py",
   "mimetype": "text/x-python",
   "name": "python",
   "nbconvert_exporter": "python",
   "pygments_lexer": "ipython3",
   "version": "3.10.4"
  }
 },
 "nbformat": 4,
 "nbformat_minor": 2
}
