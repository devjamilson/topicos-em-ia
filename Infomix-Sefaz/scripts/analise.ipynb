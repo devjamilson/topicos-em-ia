{
 "cells": [
  {
   "cell_type": "markdown",
   "metadata": {},
   "source": [
    "## **Analisando o CSV**"
   ]
  },
  {
   "cell_type": "code",
   "execution_count": null,
   "metadata": {},
   "outputs": [],
   "source": [
    "import pandas as pd\n",
    "\n",
    "\n",
    "df = pd.read_csv(r'C:\\Users\\jamil\\OneDrive\\Área de Trabalho\\Informix\\scripts\\SELECT_FROM_tbfis_hinfeletron_WHERE_EXTEND_tsatualizacao_YEAR_TO_202407111633-JeffTheSon.csv')\n",
    "df"
   ]
  },
  {
   "cell_type": "code",
   "execution_count": 5,
   "metadata": {},
   "outputs": [],
   "source": [
    "data = pd.to_datetime(df['tsatualizacao']).dt.date\n",
    "data.unique()"
   ]
  },
  {
   "cell_type": "markdown",
   "metadata": {},
   "source": [
    "## **Analisando Banco de dados da CEOS**"
   ]
  },
  {
   "cell_type": "code",
   "execution_count": 9,
   "metadata": {},
   "outputs": [
    {
     "name": "stdout",
     "output_type": "stream",
     "text": [
      "Consulta realizada com sucesso e DataFrame armazenado na variável 'result_df'\n"
     ]
    }
   ],
   "source": [
    "import pandas as pd\n",
    "from sqlalchemy import create_engine, text\n",
    "from sqlalchemy.exc import SQLAlchemyError\n",
    "\n",
    "host = \"ceos\"\n",
    "dbname = \"teste_espaciais\"\n",
    "user = \"postgres\"\n",
    "password = \"postgres\"\n",
    "port = \"5432\"\n",
    "\n",
    "engine = create_engine(f'postgresql+psycopg2://{user}:{password}@{host}:{port}/{dbname}')\n",
    "\n",
    "try:\n",
    "    query = \"SELECT * FROM tbfis_hinfeletron\"\n",
    "    with engine.connect() as connection:\n",
    "        result_df = pd.read_sql_query(sql=text(query), con=connection)\n",
    "    print(\"Consulta realizada com sucesso e DataFrame armazenado na variável 'result_df'\")\n",
    "except SQLAlchemyError as e:\n",
    "    print(f\"Erro ao realizar consulta: {e}\")\n",
    "except Exception as e:\n",
    "    print(f\"Erro inesperado: {e}\")\n"
   ]
  },
  {
   "cell_type": "code",
   "execution_count": 11,
   "metadata": {},
   "outputs": [
    {
     "data": {
      "text/plain": [
       "1000"
      ]
     },
     "execution_count": 11,
     "metadata": {},
     "output_type": "execute_result"
    }
   ],
   "source": [
    "len(result_df)"
   ]
  }
 ],
 "metadata": {
  "kernelspec": {
   "display_name": "Python 3",
   "language": "python",
   "name": "python3"
  },
  "language_info": {
   "codemirror_mode": {
    "name": "ipython",
    "version": 3
   },
   "file_extension": ".py",
   "mimetype": "text/x-python",
   "name": "python",
   "nbconvert_exporter": "python",
   "pygments_lexer": "ipython3",
   "version": "3.10.4"
  }
 },
 "nbformat": 4,
 "nbformat_minor": 2
}
