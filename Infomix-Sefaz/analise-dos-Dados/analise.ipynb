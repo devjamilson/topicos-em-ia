{
 "cells": [
  {
   "cell_type": "markdown",
   "metadata": {},
   "source": [
    "## **Analisando o CSV**"
   ]
  },
  {
   "cell_type": "code",
   "execution_count": null,
   "metadata": {},
   "outputs": [],
   "source": [
    "import pandas as pd\n",
    "\n",
    "\n",
    "df = pd.read_csv(r'C:\\Users\\jamil\\OneDrive\\Área de Trabalho\\Informix\\scripts\\SELECT_FROM_tbfis_hinfeletron_WHERE_EXTEND_tsatualizacao_YEAR_TO_202407111633-JeffTheSon.csv')\n",
    "df"
   ]
  },
  {
   "cell_type": "code",
   "execution_count": 5,
   "metadata": {},
   "outputs": [],
   "source": [
    "data = pd.to_datetime(df['tsatualizacao']).dt.date\n",
    "data.unique()"
   ]
  },
  {
   "cell_type": "markdown",
   "metadata": {},
   "source": [
    "## **Analisando Banco de dados da CEOS**"
   ]
  },
  {
   "cell_type": "code",
   "execution_count": 9,
   "metadata": {},
   "outputs": [
    {
     "name": "stdout",
     "output_type": "stream",
     "text": [
      "Consulta realizada com sucesso e DataFrame armazenado na variável 'result_df'\n"
     ]
    }
   ],
   "source": [
    "import pandas as pd\n",
    "from sqlalchemy import create_engine, text\n",
    "from sqlalchemy.exc import SQLAlchemyError\n",
    "\n",
    "host = \"ceos\"\n",
    "dbname = \"teste_espaciais\"\n",
    "user = \"postgres\"\n",
    "password = \"postgres\"\n",
    "port = \"5432\"\n",
    "\n",
    "engine = create_engine(f'postgresql+psycopg2://{user}:{password}@{host}:{port}/{dbname}')\n",
    "\n",
    "try:\n",
    "    query = \"SELECT * FROM tbfis_hinfeletron\"\n",
    "    with engine.connect() as connection:\n",
    "        result_df = pd.read_sql_query(sql=text(query), con=connection)\n",
    "    print(\"Consulta realizada com sucesso e DataFrame armazenado na variável 'result_df'\")\n",
    "except SQLAlchemyError as e:\n",
    "    print(f\"Erro ao realizar consulta: {e}\")\n",
    "except Exception as e:\n",
    "    print(f\"Erro inesperado: {e}\")\n"
   ]
  },
  {
   "cell_type": "code",
   "execution_count": 11,
   "metadata": {},
   "outputs": [
    {
     "data": {
      "text/plain": [
       "1000"
      ]
     },
     "execution_count": 11,
     "metadata": {},
     "output_type": "execute_result"
    }
   ],
   "source": [
    "len(result_df)"
   ]
  },
  {
   "cell_type": "markdown",
   "metadata": {},
   "source": [
    "## **Analisando - Parquet**"
   ]
  },
  {
   "cell_type": "code",
   "execution_count": 1,
   "metadata": {},
   "outputs": [
    {
     "data": {
      "text/html": [
       "<div>\n",
       "<style scoped>\n",
       "    .dataframe tbody tr th:only-of-type {\n",
       "        vertical-align: middle;\n",
       "    }\n",
       "\n",
       "    .dataframe tbody tr th {\n",
       "        vertical-align: top;\n",
       "    }\n",
       "\n",
       "    .dataframe thead th {\n",
       "        text-align: right;\n",
       "    }\n",
       "</style>\n",
       "<table border=\"1\" class=\"dataframe\">\n",
       "  <thead>\n",
       "    <tr style=\"text-align: right;\">\n",
       "      <th></th>\n",
       "      <th>sqnfeletronica</th>\n",
       "      <th>cnpj</th>\n",
       "      <th>dsproduto</th>\n",
       "      <th>vlproduto</th>\n",
       "      <th>qtproduto</th>\n",
       "      <th>vlbasecalcicms</th>\n",
       "      <th>sgunidmedcom</th>\n",
       "    </tr>\n",
       "  </thead>\n",
       "  <tbody>\n",
       "    <tr>\n",
       "      <th>0</th>\n",
       "      <td>598301298</td>\n",
       "      <td>00289351000164</td>\n",
       "      <td>COND SPLIT GREE G-TOP INVERTER CONNECTION - GW...</td>\n",
       "      <td>5070.00</td>\n",
       "      <td>1.0</td>\n",
       "      <td>5070.00</td>\n",
       "      <td>UN</td>\n",
       "    </tr>\n",
       "    <tr>\n",
       "      <th>1</th>\n",
       "      <td>598301298</td>\n",
       "      <td>00289351000164</td>\n",
       "      <td>EVAP SPLIT GREE G-TOP INVERTER CONNECTION - GW...</td>\n",
       "      <td>2730.00</td>\n",
       "      <td>1.0</td>\n",
       "      <td>2730.00</td>\n",
       "      <td>UN</td>\n",
       "    </tr>\n",
       "    <tr>\n",
       "      <th>2</th>\n",
       "      <td>598320375</td>\n",
       "      <td>00388857000120</td>\n",
       "      <td>CARNE CHARQUE DT PARAISO 400G</td>\n",
       "      <td>122.30</td>\n",
       "      <td>10.0</td>\n",
       "      <td>122.30</td>\n",
       "      <td>UN</td>\n",
       "    </tr>\n",
       "    <tr>\n",
       "      <th>3</th>\n",
       "      <td>598320375</td>\n",
       "      <td>00388857000120</td>\n",
       "      <td>SALAME ITALIANO FATIADO DALIA 100G</td>\n",
       "      <td>93.48</td>\n",
       "      <td>12.0</td>\n",
       "      <td>93.48</td>\n",
       "      <td>UN</td>\n",
       "    </tr>\n",
       "    <tr>\n",
       "      <th>4</th>\n",
       "      <td>598363453</td>\n",
       "      <td>00388857000120</td>\n",
       "      <td>CARNE CHARQUE DT PARAISO 400G</td>\n",
       "      <td>122.30</td>\n",
       "      <td>10.0</td>\n",
       "      <td>122.30</td>\n",
       "      <td>UN</td>\n",
       "    </tr>\n",
       "    <tr>\n",
       "      <th>...</th>\n",
       "      <td>...</td>\n",
       "      <td>...</td>\n",
       "      <td>...</td>\n",
       "      <td>...</td>\n",
       "      <td>...</td>\n",
       "      <td>...</td>\n",
       "      <td>...</td>\n",
       "    </tr>\n",
       "    <tr>\n",
       "      <th>824</th>\n",
       "      <td>598360239</td>\n",
       "      <td>01115454000332</td>\n",
       "      <td>DORE LIMAO 06X2000 ML</td>\n",
       "      <td>34.52</td>\n",
       "      <td>2.0</td>\n",
       "      <td>34.52</td>\n",
       "      <td>PCT</td>\n",
       "    </tr>\n",
       "    <tr>\n",
       "      <th>825</th>\n",
       "      <td>598360242</td>\n",
       "      <td>01115454000332</td>\n",
       "      <td>CAJUI 12X250 ML</td>\n",
       "      <td>13.58</td>\n",
       "      <td>1.0</td>\n",
       "      <td>13.58</td>\n",
       "      <td>PCT</td>\n",
       "    </tr>\n",
       "    <tr>\n",
       "      <th>826</th>\n",
       "      <td>598360242</td>\n",
       "      <td>01115454000332</td>\n",
       "      <td>MORMAII PET 06X1000 ML</td>\n",
       "      <td>58.09</td>\n",
       "      <td>2.0</td>\n",
       "      <td>58.09</td>\n",
       "      <td>PCT</td>\n",
       "    </tr>\n",
       "    <tr>\n",
       "      <th>827</th>\n",
       "      <td>598360242</td>\n",
       "      <td>01115454000332</td>\n",
       "      <td>MORMAII PET 06X2000 ML</td>\n",
       "      <td>77.09</td>\n",
       "      <td>2.0</td>\n",
       "      <td>77.09</td>\n",
       "      <td>PCT</td>\n",
       "    </tr>\n",
       "    <tr>\n",
       "      <th>828</th>\n",
       "      <td>598360242</td>\n",
       "      <td>01115454000332</td>\n",
       "      <td>CAJUI 06X2000 ML</td>\n",
       "      <td>23.12</td>\n",
       "      <td>1.0</td>\n",
       "      <td>23.12</td>\n",
       "      <td>PCT</td>\n",
       "    </tr>\n",
       "  </tbody>\n",
       "</table>\n",
       "<p>829 rows × 7 columns</p>\n",
       "</div>"
      ],
      "text/plain": [
       "     sqnfeletronica            cnpj  \\\n",
       "0         598301298  00289351000164   \n",
       "1         598301298  00289351000164   \n",
       "2         598320375  00388857000120   \n",
       "3         598320375  00388857000120   \n",
       "4         598363453  00388857000120   \n",
       "..              ...             ...   \n",
       "824       598360239  01115454000332   \n",
       "825       598360242  01115454000332   \n",
       "826       598360242  01115454000332   \n",
       "827       598360242  01115454000332   \n",
       "828       598360242  01115454000332   \n",
       "\n",
       "                                             dsproduto  vlproduto  qtproduto  \\\n",
       "0    COND SPLIT GREE G-TOP INVERTER CONNECTION - GW...    5070.00        1.0   \n",
       "1    EVAP SPLIT GREE G-TOP INVERTER CONNECTION - GW...    2730.00        1.0   \n",
       "2                        CARNE CHARQUE DT PARAISO 400G     122.30       10.0   \n",
       "3                   SALAME ITALIANO FATIADO DALIA 100G      93.48       12.0   \n",
       "4                        CARNE CHARQUE DT PARAISO 400G     122.30       10.0   \n",
       "..                                                 ...        ...        ...   \n",
       "824                              DORE LIMAO 06X2000 ML      34.52        2.0   \n",
       "825                                    CAJUI 12X250 ML      13.58        1.0   \n",
       "826                             MORMAII PET 06X1000 ML      58.09        2.0   \n",
       "827                             MORMAII PET 06X2000 ML      77.09        2.0   \n",
       "828                                   CAJUI 06X2000 ML      23.12        1.0   \n",
       "\n",
       "     vlbasecalcicms sgunidmedcom  \n",
       "0           5070.00           UN  \n",
       "1           2730.00           UN  \n",
       "2            122.30           UN  \n",
       "3             93.48           UN  \n",
       "4            122.30           UN  \n",
       "..              ...          ...  \n",
       "824           34.52          PCT  \n",
       "825           13.58          PCT  \n",
       "826           58.09          PCT  \n",
       "827           77.09          PCT  \n",
       "828           23.12          PCT  \n",
       "\n",
       "[829 rows x 7 columns]"
      ]
     },
     "execution_count": 1,
     "metadata": {},
     "output_type": "execute_result"
    }
   ],
   "source": [
    "import pandas as pd\n",
    "\n",
    "df_20_cnpjs = pd.read_parquet(r'C:\\Users\\jamil\\OneDrive\\Área de Trabalho\\Infomix-Sefaz\\carga\\result_output.parquet')\n",
    "df_20_cnpjs"
   ]
  }
 ],
 "metadata": {
  "kernelspec": {
   "display_name": "Python 3",
   "language": "python",
   "name": "python3"
  },
  "language_info": {
   "codemirror_mode": {
    "name": "ipython",
    "version": 3
   },
   "file_extension": ".py",
   "mimetype": "text/x-python",
   "name": "python",
   "nbconvert_exporter": "python",
   "pygments_lexer": "ipython3",
   "version": "3.10.4"
  }
 },
 "nbformat": 4,
 "nbformat_minor": 2
}
