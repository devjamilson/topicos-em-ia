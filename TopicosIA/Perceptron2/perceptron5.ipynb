{
  "nbformat": 4,
  "nbformat_minor": 0,
  "metadata": {
    "colab": {
      "provenance": []
    },
    "kernelspec": {
      "name": "python3",
      "display_name": "Python 3"
    },
    "language_info": {
      "name": "python"
    }
  },
  "cells": [
    {
      "cell_type": "code",
      "source": [
        "import numpy as np\n",
        "\n",
        "# Inicializa os pesos e o bias\n",
        "def initialize_weights(n_features):\n",
        "    # Inicializa os pesos com zeros para cada feature e bias como zero\n",
        "    weights = np.zeros(n_features)\n",
        "    bias = 0\n",
        "    return weights, bias\n",
        "\n",
        "# Função de ativação degrau\n",
        "def step_function(x):\n",
        "    # Retorna 1 se o valor for maior ou igual a 0, caso contrário, retorna -1\n",
        "    return np.where(x >= 0, 1, -1)\n",
        "\n",
        "# Atualiza os pesos e o bias com base no erro\n",
        "def update_weights(weights, bias, learning_rate, x_i, error):\n",
        "    # Atualiza os pesos usando a fórmula: w = w + learning_rate * error * x_i\n",
        "    weights += learning_rate * error * x_i\n",
        "    # Atualiza o bias usando a fórmula: b = b + learning_rate * error\n",
        "    bias += learning_rate * error\n",
        "    return weights, bias\n",
        "\n",
        "# Realiza as predições com base nos pesos e no bias\n",
        "def predict(weights, bias, X):\n",
        "    # Calcula a saída linear (dot product dos pesos e entradas, mais o bias)\n",
        "    linear_output = np.dot(X, weights) + bias\n",
        "    # Aplica a função de ativação degrau na saída linear\n",
        "    return step_function(linear_output)\n",
        "\n",
        "# Treina o Perceptron ajustando os pesos e bias\n",
        "def train_perceptron(X, y, learning_rate=0.01, n_iters=1000):\n",
        "    # Obtém o número de amostras e de características (features)\n",
        "    n_samples, n_features = X.shape\n",
        "    # Inicializa os pesos e bias\n",
        "    weights, bias = initialize_weights(n_features)\n",
        "\n",
        "    # Converte as saídas para -1 e 1 (caso fossem 0 e 1)\n",
        "    y_ = np.where(y <= 0, -1, 1)\n",
        "\n",
        "    # Treinamento por iterações\n",
        "    for _ in range(n_iters):\n",
        "        for idx, x_i in enumerate(X):\n",
        "            # Calcula a saída linear para cada amostra\n",
        "            linear_output = np.dot(x_i, weights) + bias\n",
        "            # Aplica a função de ativação para obter a previsão\n",
        "            y_predicted = step_function(linear_output)\n",
        "            # Calcula o erro (diferença entre o valor esperado e a previsão)\n",
        "            error = y_[idx] - y_predicted\n",
        "            # Atualiza os pesos e o bias com base no erro\n",
        "            weights, bias = update_weights(weights, bias, learning_rate, x_i, error)\n",
        "\n",
        "    return weights, bias\n",
        "\n",
        "# Exemplo de uso\n",
        "if __name__ == \"__main__\":\n",
        "    # Dados de exemplo: cada linha é uma amostra com 2 características\n",
        "    X = np.array([[1, 1], [1, -1], [-1, 1], [-1, -1]])\n",
        "    # Rótulos correspondentes: o valor esperado para cada entrada\n",
        "    y = np.array([1, -1, -1, -1])\n",
        "\n",
        "    # Define a taxa de aprendizado e o número de iterações\n",
        "    learning_rate = 0.1\n",
        "    n_iters = 10\n",
        "    # Treina o Perceptron com os dados fornecidos\n",
        "    weights, bias = train_perceptron(X, y, learning_rate, n_iters)\n",
        "\n",
        "    # Realiza predições para os mesmos dados de entrada\n",
        "    predictions = predict(weights, bias, X)\n",
        "\n",
        "    # Exibe as predições e compara com os rótulos originais\n",
        "    print(\"Dados de entrada:\\n\", X)\n",
        "    print(\"Rótulos reais:    \", y)\n",
        "    print(\"Predições:        \", predictions)\n",
        "\n"
      ],
      "metadata": {
        "colab": {
          "base_uri": "https://localhost:8080/"
        },
        "id": "wAG_FdzzwFFC",
        "outputId": "987c3911-bbf5-499c-8b5a-c4a780c943ac"
      },
      "execution_count": null,
      "outputs": [
        {
          "output_type": "stream",
          "name": "stdout",
          "text": [
            "Dados de entrada:\n",
            " [[ 1  1]\n",
            " [ 1 -1]\n",
            " [-1  1]\n",
            " [-1 -1]]\n",
            "Rótulos reais:     [ 1 -1 -1 -1]\n",
            "Predições:         [ 1 -1 -1 -1]\n"
          ]
        }
      ]
    }
  ]
}