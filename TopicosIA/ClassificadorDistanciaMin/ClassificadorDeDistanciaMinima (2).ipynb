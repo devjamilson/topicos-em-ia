{
  "cells": [
    {
      "cell_type": "code",
      "execution_count": null,
      "metadata": {
        "id": "_QkcDbw8pw_d"
      },
      "outputs": [],
      "source": [
        "#Importando as libs necessárias para a implementação do algoritmo Classificador de Distância Mínima\n",
        "import numpy as np\n",
        "import pandas as pd\n",
        "from sklearn.datasets import load_iris\n",
        "from sklearn.model_selection import train_test_split\n",
        "from sklearn.metrics import accuracy_score"
      ]
    },
    {
      "cell_type": "code",
      "execution_count": null,
      "metadata": {
        "id": "QsoY01vhpw_g",
        "outputId": "d8529530-b5fc-49b1-dbbe-9a20a0c9ffaf"
      },
      "outputs": [
        {
          "name": "stdout",
          "output_type": "stream",
          "text": [
            "Características das primeiras 5 amostras:\n",
            " [[5.1 3.5 1.4 0.2]\n",
            " [4.9 3.  1.4 0.2]\n",
            " [4.7 3.2 1.3 0.2]\n",
            " [4.6 3.1 1.5 0.2]\n",
            " [5.  3.6 1.4 0.2]]\n",
            "Classes das primeiras 5 amostras: [0 0 0 0 0]\n"
          ]
        }
      ],
      "source": [
        "# Carregando a base de dados Iris\n",
        "iris = load_iris()\n",
        "X = iris.data\n",
        "y = iris.target\n",
        "\n",
        "# Primeiras amostras e classes\n",
        "print(\"Características das primeiras 5 amostras:\\n\", X[:5])\n",
        "print(\"Classes das primeiras 5 amostras:\", y[:5])\n"
      ]
    },
    {
      "cell_type": "code",
      "execution_count": null,
      "metadata": {
        "id": "5tkCkBu2pw_h",
        "outputId": "c6bce442-3eed-4702-c71e-317d68bc2fea"
      },
      "outputs": [
        {
          "name": "stdout",
          "output_type": "stream",
          "text": [
            "Forma do conjunto de treino: (105, 4)\n",
            "Forma do conjunto de teste: (45, 4)\n"
          ]
        }
      ],
      "source": [
        "# Dividindo o conjunto de dados em treino e teste (70% treino, 30% teste)\n",
        "X_train, X_test, y_train, y_test = train_test_split(X, y, test_size=0.3, random_state=42)\n",
        "\n",
        "# Exibir as formas dos conjuntos de dados para verificação\n",
        "print(f\"Forma do conjunto de treino: {X_train.shape}\")\n",
        "print(f\"Forma do conjunto de teste: {X_test.shape}\")\n"
      ]
    },
    {
      "cell_type": "code",
      "execution_count": null,
      "metadata": {
        "id": "RkxSkEo0pw_i",
        "outputId": "dbd38c48-a3ec-48a6-9baf-ec1e717cce8d"
      },
      "outputs": [
        {
          "name": "stdout",
          "output_type": "stream",
          "text": [
            "Vetores protótipos (médias) para cada classe:\n",
            " [[4.96451613 3.37741935 1.46451613 0.2483871 ]\n",
            " [5.86216216 2.72432432 4.21081081 1.3027027 ]\n",
            " [6.55945946 2.98648649 5.54594595 2.00540541]]\n"
          ]
        }
      ],
      "source": [
        "# Calculando os vetores protótipos (médias) para cada classe (comprimento e largura das sépalas, comprimento e largura das pétalas)\n",
        "prototypes = []\n",
        "for label in np.unique(y_train):\n",
        "    prototypes.append(X_train[y_train == label].mean(axis=0))\n",
        "prototypes = np.array(prototypes)\n",
        "\n",
        "# Exibindo os protótipos calculados\n",
        "print(\"Vetores protótipos (médias) para cada classe:\\n\", prototypes)\n"
      ]
    },
    {
      "cell_type": "code",
      "execution_count": null,
      "metadata": {
        "id": "TG6BBSjYpw_j"
      },
      "outputs": [],
      "source": [
        "def minimum_distance_classifier(X, prototypes):\n",
        "    predictions = []\n",
        "    for sample in X:\n",
        "        # Calculando distância euclidiana até cada protótipo\n",
        "        distances = np.linalg.norm(prototypes - sample, axis=1)\n",
        "        # Atribuinddo a classe do protótipo mais próximo\n",
        "        predictions.append(np.argmin(distances))\n",
        "    return np.array(predictions)\n",
        "\n",
        "# Prevendo as classes para o conjunto de testes\n",
        "y_pred = minimum_distance_classifier(X_test, prototypes)\n"
      ]
    },
    {
      "cell_type": "code",
      "execution_count": null,
      "metadata": {
        "id": "G5wVs8YLpw_j",
        "outputId": "4b2516b3-8b91-43db-d74a-f53a8d54f7b7"
      },
      "outputs": [
        {
          "name": "stdout",
          "output_type": "stream",
          "text": [
            "Acurácia do classificador de distância mínima: 0.96\n"
          ]
        }
      ],
      "source": [
        "# Calculando a acurácia\n",
        "print(f'Acurácia do classificador de distância mínima: {accuracy:.2f}')\n"
      ]
    },
    {
      "cell_type": "code",
      "execution_count": null,
      "metadata": {
        "id": "CqL3Z3VIpw_k",
        "outputId": "fb0c5eef-5b43-49e4-c095-cb39466a62a7"
      },
      "outputs": [
        {
          "name": "stdout",
          "output_type": "stream",
          "text": [
            "   Real  Previsto\n",
            "0     1         1\n",
            "1     0         0\n",
            "2     2         2\n",
            "3     1         1\n",
            "4     1         2\n",
            "5     0         0\n",
            "6     1         1\n",
            "7     2         2\n",
            "8     1         1\n",
            "9     1         1\n"
          ]
        }
      ],
      "source": [
        "# Comparando algumas previsões com as classes reais\n",
        "comparacao = pd.DataFrame({'Real': y_test, 'Previsto': y_pred})\n",
        "print(comparacao.head(10))\n"
      ]
    }
  ],
  "metadata": {
    "kernelspec": {
      "display_name": "base",
      "language": "python",
      "name": "python3"
    },
    "language_info": {
      "codemirror_mode": {
        "name": "ipython",
        "version": 3
      },
      "file_extension": ".py",
      "mimetype": "text/x-python",
      "name": "python",
      "nbconvert_exporter": "python",
      "pygments_lexer": "ipython3",
      "version": "3.12.4"
    },
    "colab": {
      "provenance": []
    }
  },
  "nbformat": 4,
  "nbformat_minor": 0
}